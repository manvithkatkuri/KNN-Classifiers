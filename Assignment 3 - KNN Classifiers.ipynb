{
 "cells": [
  {
   "cell_type": "markdown",
   "id": "bab0f543",
   "metadata": {},
   "source": [
    "# Assignment 3 - KNN Classifiers"
   ]
  },
  {
   "cell_type": "markdown",
   "id": "fbc21dd1",
   "metadata": {},
   "source": [
    "The goal of this assignment is to apply the K-Nearest Neighbors (KNN) classification algorithm on the digits dataset, which contains images of hand-written digits.\n",
    "\n",
    "The dataset comprises 8x8 pixel images of hand-written digits (0 through 9). Each image is represented as a 64-dimensional vector, where each dimension corresponds to a pixel's grayscale value."
   ]
  },
  {
   "cell_type": "markdown",
   "id": "bbbdced9",
   "metadata": {},
   "source": [
    "## Tasks:"
   ]
  },
  {
   "cell_type": "markdown",
   "id": "ea499c74",
   "metadata": {},
   "source": [
    "### 1. Data Loading and Exploration: (2 points)"
   ]
  },
  {
   "cell_type": "code",
   "execution_count": null,
   "id": "11add08c",
   "metadata": {
    "scrolled": false
   },
   "outputs": [],
   "source": [
    "# Import necessary libraries\n",
    "from sklearn.datasets import load_digits\n",
    "import matplotlib.pyplot as plt\n",
    "\n",
    "# Load the dataset\n",
    "digits = load_digits()\n",
    "\n",
    "# Explore the dataset\n",
    "print(f\"Data shape: {digits.data.shape}\")\n",
    "print(f\"Target shape: {digits.target.shape}\")\n",
    "\n",
    "# Visualize the first few images and their labels\n",
    "\"\"\"\n",
    "Question: Visualize the Digits Dataset (2 points)\n",
    "Display the first ten images from the digits dataset with their labels. Use a 2x5 grid of subplots, and ensure the grid size is 10x5. Show each image in grayscale and title it with the respective label. Adjust the layout to prevent overlap.\n",
    "\n",
    "Hints:\n",
    "\n",
    "Use the 'ax.imshow()' method to display an image and 'ax.set_title()' to set its title.\n",
    "Write your code below:\n",
    "\"\"\"\n",
    "fig, axes = plt.subplots(2, 5, figsize=(10, 5))\n",
    "for ax, image, label in zip(axes.ravel(), digits.images, digits.target):\n",
    "    # show image \n",
    "    # set the image title with the label\n",
    "plt.tight_layout()\n",
    "plt.show()\n"
   ]
  },
  {
   "cell_type": "markdown",
   "id": "3dff10e8",
   "metadata": {},
   "source": [
    "### 2. Data Preprocessing (2 points)"
   ]
  },
  {
   "cell_type": "code",
   "execution_count": null,
   "id": "a2673f85",
   "metadata": {},
   "outputs": [],
   "source": [
    "from sklearn.model_selection import train_test_split\n",
    "\n",
    "# Split the dataset into training and testing sets\n",
    "\"\"\"\n",
    "Question: Dataset Splitting (2 points)\n",
    "Using the digits dataset, divide it into training and testing sets. \n",
    "\n",
    "Hints:\n",
    "\n",
    "Utilize the train_test_split function.\n",
    "Remember to set test_size and random_state.\n",
    "\"\"\"\n",
    "# write the train and test split"
   ]
  },
  {
   "cell_type": "markdown",
   "id": "cca5e482",
   "metadata": {},
   "source": [
    "### 3. KNN Classification (2 points)"
   ]
  },
  {
   "cell_type": "code",
   "execution_count": null,
   "id": "875b2817",
   "metadata": {},
   "outputs": [],
   "source": [
    "from sklearn.neighbors import KNeighborsClassifier\n",
    "\n",
    "# Initialize the KNN classifier\n",
    "knn = KNeighborsClassifier(n_neighbors=5)\n",
    "\n",
    "# Train the classifier and predict labels for the test set\n",
    "\"\"\"\n",
    "Question: KNN Classifier Training and Prediction (2 points)\n",
    "Given the initialized KNN classifier with n_neighbors set to 5, perform the following tasks:\n",
    "\n",
    "1- Train the classifier using the training data.\n",
    "2- Predict the labels for the test dataset using the trained classifier.\n",
    "\n",
    "Hints:\n",
    "\n",
    "Use the 'fit' method to train the classifier.\n",
    "Utilize the 'predict' method to make predictions on the test data.\n",
    "\"\"\"\n",
    "# fit the model\n",
    "\n",
    "# predict X_test and store it in y_pred"
   ]
  },
  {
   "cell_type": "markdown",
   "id": "ce6acbdd",
   "metadata": {},
   "source": [
    "### 4. Evaluation (2 points)"
   ]
  },
  {
   "cell_type": "code",
   "execution_count": null,
   "id": "6bc2b405",
   "metadata": {},
   "outputs": [],
   "source": [
    "from sklearn.metrics import accuracy_score, confusion_matrix\n",
    "\n",
    "\"\"\"\n",
    "Question: Evaluating Classifier Performance (2 points)\n",
    "After obtaining the predicted labels from the trained KNN classifier, evaluate its performance using the following metrics:\n",
    "\n",
    "Calculate the accuracy of the classifier and display it in percentage format.\n",
    "Compute the confusion matrix for the true labels and predicted labels.\n",
    "Hints:\n",
    "\n",
    "Use the accuracy_score function to get the accuracy.\n",
    "The confusion_matrix function can help in deriving the confusion matrix.\n",
    "\"\"\"\n",
    "# Calculate accuracy\n",
    "accuracy = # calculate accuracy\n",
    "print(f\"Accuracy with k=5: {accuracy*100:.2f}%\")\n",
    "\n",
    "# Confusion matrix\n",
    "conf_mat = # calculate confusion matrix\n",
    "print(\"Confusion Matrix:\")\n",
    "print(conf_mat)"
   ]
  },
  {
   "cell_type": "markdown",
   "id": "3f799480",
   "metadata": {},
   "source": [
    "### 5. Experimenting with different k values (2 points)"
   ]
  },
  {
   "cell_type": "code",
   "execution_count": null,
   "id": "0c68f06f",
   "metadata": {},
   "outputs": [],
   "source": [
    "k_values = [1, 3, 5, 7, 9, 11, 13, 15]\n",
    "accuracies = []\n",
    "\n",
    "\"\"\"\n",
    "Question: Experimenting with Different k-values in KNN (2 points)\n",
    "The k-value in KNN determines the number of neighbors to consider when making a prediction. To find an optimal k-value, perform the following:\n",
    "\n",
    "Iterate over different k-values given in the k_values list.\n",
    "For each k-value, train the KNN classifier and predict the labels for the test set.\n",
    "Calculate and store the accuracy for each k-value in the accuracies list.\n",
    "Finally, plot a graph of accuracy vs. k-values to visualize the performance of the KNN classifier for different k-values.\n",
    "\n",
    "Hint:\n",
    "\n",
    "Use a loop to iterate over each k-value.\n",
    "Remember to initialize the KNN classifier with the current k-value in each iteration\n",
    "\"\"\"\n",
    "for k in k_values:\n",
    "    knn = # fit the classifier\n",
    "    knn.fit(X_train, y_train)\n",
    "    y_pred = # predict on test\n",
    "    accuracy = # calculate the accuracy\n",
    "    # add the accuracy to accuracies\n",
    "\n",
    "# Plot the results\n",
    "plt.plot(k_values, accuracies, marker='o')\n",
    "plt.xlabel(\"k values\")\n",
    "plt.ylabel(\"Accuracy\")\n",
    "plt.title(\"Accuracy vs. k values in KNN\")\n",
    "plt.show()"
   ]
  },
  {
   "cell_type": "code",
   "execution_count": null,
   "id": "fb15aac8",
   "metadata": {},
   "outputs": [],
   "source": []
  }
 ],
 "metadata": {
  "kernelspec": {
   "display_name": "sf",
   "language": "python",
   "name": "sf"
  },
  "language_info": {
   "codemirror_mode": {
    "name": "ipython",
    "version": 3
   },
   "file_extension": ".py",
   "mimetype": "text/x-python",
   "name": "python",
   "nbconvert_exporter": "python",
   "pygments_lexer": "ipython3",
   "version": "3.11.4"
  }
 },
 "nbformat": 4,
 "nbformat_minor": 5
}
